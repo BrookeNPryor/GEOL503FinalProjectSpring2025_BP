








myTuple = (8, 10, "abracadabra")
print(myTuple)





import numpy as np

gimmeOnes = np.zeros(10)
print(gimmeOnes)
print( " size equals", np.size(gimmeOnes) )





stream_velocity = np.arange(15, 35+1)
second_measurement = stream_velocity[1]
print(second_measurement)





print( stream_velocity[0:10] )





print( stream_velocity )


print( stream_velocity[9:9+10] )


np.sum( stream_velocity )





sample_grams = np.array([0.7, 0.3, 0.8, 1.1, 2.7, 0.6, 0.2])
gold_ppm = np.array([500, 700, 200, 800, 300, 800, 120])

# Evaluate the gold I found in my driveway

#1. total grams of sample collected
grams_total_sample = np.sum( sample_grams )
print(" total sample grams = ", micrograms_total_gold)

#2. mass of gold in each sample
micrograms_gold = sample_grams * gold_ppm
print("micrograms of gold in each sample is ", micrograms_gold)

#3. total mass of gold in grams
grams_gold_total = np.sum( micrograms_gold ) * 1e-6
print("gold total grams", grams_gold_total)

#4. gold worth
gold_worth = 91*grams_gold_total
print( round(gold_worth, 2) )






import matplotlib.pyplot as plt

#X-axis: Number of lines of code
lines_of_code = np.arange(101)

#Y-axis: Amount of programmer effort
programmer_effort = lines_of_code**2

#Create a plot with our data
coding_figure, coding_axes = plt.subplots ()
coding_axes.plot(lines_of_code, programmer_effort, color="slategray")

#6

#A.
coding_axes.set_xlabel("Lines of Code")

#B
coding_axes.set_xlim(0, 150)
coding_axes.set_ylim(0, 10500)

#C
coding_axes.set_ylabel("Programmer Effort")
coding_axes.set_facecolor("ivory")
coding_figure.set_facecolor("seagreen")

plt.show()





import pandas as pd

data = pd.read_excel("NBS981 YYPb08 Pb-1338.XLSX", sheet_name="CYCLES", header=1)






data["i206 Daly"]





intensity_figure, intensity_axes = plt.subplots()
intensity_axes.plot(data["Time"], data["i206 Daly"], ".")
intensity_axes.plot(data["Time"], data["i207 Daly"], '.', color="seagreen")
plt.show






