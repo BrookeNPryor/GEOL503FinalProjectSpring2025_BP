




















print(7*8)

print(3**2 + 4**2)





print(3-2/10)
print((3-2)/10)
print(3-(2/10))





print(abs(-3))
print(round(2.24534))





import numpy as np

print(np.sqrt(3))
print(np.log(10))
print(np.exp(-1))





0.1+0.1+0.1





print(type (1))
print(type(0.1))





print("Hello World!")





x = 10
y = 12
z = x + y
print (z)

y = 5
print(y)
print("y =",y)
print(z)
print("z =",z)





help("keywords")











my_shopping_list  = ["eggs", "bacon", "apples", 25.3]
print(my_shopping_list)
