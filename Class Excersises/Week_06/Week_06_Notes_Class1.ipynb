{
 "cells": [
  {
   "cell_type": "markdown",
   "id": "55d711b3-c3bf-4115-8aa2-1799078b21a5",
   "metadata": {},
   "source": [
    "# Week 6 Notes: Control Flow\n",
    "\n",
    "In past weeks, the Python interpreter has executed every single one of our lines once, in the order that they appear in our code.  This week, we start to control which lines of code are run under what conditions, and to execute our code many times over.  Read more at [Wikipedia](https://en.wikipedia.org/wiki/Control_flow).  \n",
    "\n",
    "## Part 1: Boolean data and Boolean logic\n",
    "\n",
    "Before we start, we need one more piece of the puzzle: a new data type called a Boolean data type or, in Python, `bool`. [Boolean algebra](https://en.wikipedia.org/wiki/Boolean_algebra) is the math of true and false, logical values and operations. You probably learned some in grade school  In Python, a Boolean can be `True` or `False`.  \n",
    "\n",
    "A Boolean expression is one that evaluates to `True` or `False`, often using Boolean operators. Those include `and`, `or`, and `not`.\n",
    "\n",
    "Experiment with combining `bool` values and these three new operators below:"
   ]
  },
  {
   "cell_type": "code",
   "execution_count": 2,
   "id": "5ea9c034-8b04-4775-9e4e-b7ba06c475f3",
   "metadata": {},
   "outputs": [
    {
     "name": "stdout",
     "output_type": "stream",
     "text": [
      "False\n"
     ]
    }
   ],
   "source": [
    "is_correct = False and False and True\n",
    "print(is_correct)"
   ]
  },
  {
   "cell_type": "markdown",
   "id": "5d775ee8-7303-40ff-8fa5-e3fcd824c7d4",
   "metadata": {},
   "source": [
    "Another way to use `bool`s is to evaluate comparisons, such as inequalities. From the [Python docs](https://docs.python.org/3/library/stdtypes.html#comparisons):\n",
    "\n",
    "| Operation | Meaning |\n",
    "| --------- | ------- |\n",
    "| `<`      | strictly less than |\n",
    "| `<=`     | less than or equal |\n",
    "| `>`      | strictly greater than |\n",
    "| `>=`     | greater than or equal |\n",
    "| `==`     | equal |\n",
    "| `!=`     | not equal |\n",
    "| `is`     | object identity |\n",
    "| `is not` | negated object identity |\n",
    "| `in`     | is an element in a list |\n",
    "\n",
    "We can use these to create <ins>Boolean expressions</ins>, or bits of code that evaluate to `True` or `False`.  Try a few below using familar numbers:"
   ]
  },
  {
   "cell_type": "code",
   "execution_count": 4,
   "id": "555eb7b1-b1cd-43e1-9e9d-02322bcefe05",
   "metadata": {},
   "outputs": [
    {
     "name": "stdout",
     "output_type": "stream",
     "text": [
      "True\n",
      "False\n",
      "False\n"
     ]
    }
   ],
   "source": [
    "import numpy as np\n",
    "\n",
    "print(5 > np.sqrt(16))\n",
    "\n",
    "print(4 > np.sqrt(16))\n",
    "\n",
    "print(4 != 4)"
   ]
  },
  {
   "cell_type": "markdown",
   "id": "9eb4342e-3822-4834-882d-60e4ca908b2a",
   "metadata": {},
   "source": [
    "Now combine some inequalities along with `and`, `or`, and `not` to create some more complicated Boolean expressions:"
   ]
  },
  {
   "cell_type": "code",
   "execution_count": 6,
   "id": "bd4b3470-0602-4392-ac82-c6d9dab3d742",
   "metadata": {},
   "outputs": [
    {
     "data": {
      "text/plain": [
       "False"
      ]
     },
     "execution_count": 6,
     "metadata": {},
     "output_type": "execute_result"
    }
   ],
   "source": [
    "(2 < 4) and (3 > 5)"
   ]
  },
  {
   "cell_type": "markdown",
   "id": "28bc5492-2448-456a-bf5b-a44162de378e",
   "metadata": {},
   "source": [
    "Our last new operator for the day is a mathematical operator. No need for NumPy, it's one of the few built into Python. The modulo operator, `%` gives you the remainder after division. So `9 % 3` is 0 because there is no remainder after 9 is divided by 3, but `10 % 3` is 1 because the remainder after dividing 10 by 3 is 1.\n",
    "**Example:** The summer olympics is every four years, and the last one in Paris was in 2024. Write a Boolean expression that returns `True` if the year you type is a year of the summer olympics, and `false` if the year you type is not a summer olympics year.  If you have time, write another for the winter olympics!  If we have time, we'll talk about \"truthy\" and \"falsey\"."
   ]
  },
  {
   "cell_type": "code",
   "execution_count": 8,
   "id": "454b9e89-2e5c-4571-af9c-0e35783a5295",
   "metadata": {},
   "outputs": [
    {
     "name": "stdout",
     "output_type": "stream",
     "text": [
      "False\n"
     ]
    }
   ],
   "source": [
    "year = 2030\n",
    "\n",
    "is_summer_olympics = (year % 4) == 0\n",
    "print(is_summer_olympics)"
   ]
  },
  {
   "cell_type": "code",
   "execution_count": 9,
   "id": "0861a5c4-c76f-49ed-ab52-6769b654440f",
   "metadata": {},
   "outputs": [
    {
     "data": {
      "text/plain": [
       "True"
      ]
     },
     "execution_count": 9,
     "metadata": {},
     "output_type": "execute_result"
    }
   ],
   "source": [
    "not (12 % 4)"
   ]
  },
  {
   "cell_type": "markdown",
   "id": "664327ce-40a9-4c11-97f7-3f790d7bede8",
   "metadata": {},
   "source": [
    "## Part 2: The `if` statement\n",
    "\n",
    "Here it is, our first control structure. We'll let the program decide whether to evaluate some code, conditional on a Boolean expression.  For a nice in-depth `if` statement tutorial, [RealPython](https://realpython.com/python-conditional-statements/) does a nice job.  \n",
    "\n",
    "An `if` statement looks like\n",
    "\n",
    "```{python}\n",
    "if <Boolean expression>:\n",
    "    <some code>\n",
    "```\n",
    "\n",
    "There are five parts and all of them are required:\n",
    "1. The `if` keyword\n",
    "2. The Boolean expression, which evaluates to `True` or `False`\n",
    "3. The colon before the line break\n",
    "4. The indent after the line break\n",
    "5. The code you want to evaluate if the Boolean expression is `True`. Your code doesn't include the <>.\n",
    "\n",
    "Python doesn't care how many spaces you put between the numbers and the plus sign in `1 + 1` but it really cares that you indent the code that you want to evaluate if the condition is `True`.  Four spaces is standard. When you hit the `<tab>` key, most code editors will default to four spaces or let you choose what gets inserted.  \n",
    "\n",
    "### Exercise 2.1: \n",
    "\n",
    "According to the trusty [GSA Time Scale](https://rock.geosociety.org/net/documents/gsa/timescale/timescl.pdf?v=2022) and our best available U-Pb geochronology, the Cenozoic period started 66.02 million years ago (abbreviated Ma). Write a line of code that assigns a number like 12 to the variable `age_in_Ma`. Then write an `if` statement that prints \"That age is in the Cenozoic!\" if the age is in the Cenozoic Era.  "
   ]
  },
  {
   "cell_type": "code",
   "execution_count": 11,
   "id": "ccda5085-0fc9-4088-b20e-21bddf515c09",
   "metadata": {},
   "outputs": [],
   "source": [
    "age_in_Ma = 100\n",
    "\n",
    "if (age_in_Ma <= 66.02):\n",
    "    print(\"That age is in the Cenozoic!\")"
   ]
  },
  {
   "cell_type": "markdown",
   "id": "93a2482e-06a2-4f1b-b1e5-0d8efa8bbe7d",
   "metadata": {},
   "source": [
    "### Part 2.2 `else:`\n",
    "\n",
    "Now we'd like to print out some more information about our age, like for instance whether the `age_in_Ma` is before the Cenozoic. Instead of writing a new `if` statement with a new Boolean expression, we can just use the one we already made and tack on an `else` statement.  The new structure should look like:\n",
    "\n",
    "```{python}\n",
    "if <Boolean expression>:\n",
    "    <some code if expression is True>\n",
    "else:\n",
    "    <some code if expression is False>\n",
    "```\n",
    "\n",
    "Copy and paste your time scale code below and add an `else:` that prints \"That age is before the Cenozoic.\" if the age is pre-Cenozoic."
   ]
  },
  {
   "cell_type": "code",
   "execution_count": 13,
   "id": "ae2408df-0db5-4945-a32f-5f46b5233712",
   "metadata": {},
   "outputs": [
    {
     "name": "stdout",
     "output_type": "stream",
     "text": [
      "That age is before the Cenozoic (lame).\n"
     ]
    }
   ],
   "source": [
    "if (age_in_Ma <= 66.02):\n",
    "    print(\"That age is in the Cenozoic!\")\n",
    "else:\n",
    "    print(\"That age is before the Cenozoic (lame).\")"
   ]
  },
  {
   "cell_type": "markdown",
   "id": "7d17f9ee-7f61-442b-900e-170bb9fae87e",
   "metadata": {},
   "source": [
    "### Part 2.3: `elif:`\n",
    "\n",
    "That's more informative! Now we want to add more eras to our code. To do that, instead of adding another `if` statement, we'll tack onto the one we already have, since we are just up to one thing: figuring out what era our age belongs to.  \n",
    "\n",
    "But! We do need another condition that includes the the age of the Permo-Triassic boundary, the end of the Paleozoic Era and the start of the Mesozoic Era.  We can add an additional condition to our if statement using `elif`, short for \"else if\".  \n",
    "\n",
    "```{python}\n",
    "if <Boolean expression>:\n",
    "    <some code if expression is True>\n",
    "elif <if first Boolean is false, evaluate this next>\n",
    "    <and run this code if the second condition is True>\n",
    "else:\n",
    "    <some code if all above expressions are False>\n",
    "```\n",
    "\n",
    "You can stack as many `elif` statements as you want. They all get tested in sequence, and the the first one that is `True` runs the code indented underneath it.  I think of this like a [coin sorter](https://youtu.be/ykvUE8Ad8Ls?feature=shared&t=662) where the series of `if` and `elif` statements are a series of holes and the indented code underneath them are the holes that the coins fall into.\n",
    "\n",
    "**Exercise 2.3** Copy and paste your time scale code from above, and modify it so that it tells you if `age_in_Ma` is in the \"Cenozoic\", \"Mesozoic\", or \"Paleozoic or earlier\".  Bonus: add the Proterozoic, Archean, and Hadean. No matter what the value of `age_in_Ma` is, have the computer print \"You're in the present. Have a good day!\" afterwards.\n"
   ]
  },
  {
   "cell_type": "code",
   "execution_count": 15,
   "id": "edf3cf4e-660a-4450-bc6b-8d0ada02248e",
   "metadata": {},
   "outputs": [
    {
     "name": "stdout",
     "output_type": "stream",
     "text": [
      "That age is in the Mesozoic!\n",
      "You're in the present. Have a good day!\n"
     ]
    }
   ],
   "source": [
    "if (age_in_Ma <= 66.02):\n",
    "    print(\"That age is in the Cenozoic!\")\n",
    "elif (age_in_Ma > 66.02) and (age_in_Ma <= 251.9):\n",
    "    print(\"That age is in the Mesozoic!\")\n",
    "elif (age_in_Ma > 251.9) and (age_in_Ma <= 541):\n",
    "    print(\"That age is in the Paleozoic!\")\n",
    "elif (age_in_Ma > 541) and (age_in_Ma <= 2500):\n",
    "    print(\"That age is in the Proterozoic!\")\n",
    "\n",
    "print(\"You're in the present. Have a good day!\")"
   ]
  },
  {
   "cell_type": "code",
   "execution_count": 31,
   "id": "5fabb83f-eed9-4e30-88ac-ce6937f8f709",
   "metadata": {},
   "outputs": [
    {
     "name": "stdout",
     "output_type": "stream",
     "text": [
      "That age is in the Mesozoic!\n",
      "(Dino kids would love it here!)\n",
      "But YOU are in the present. Have a good day!\n"
     ]
    }
   ],
   "source": [
    "if (age_in_Ma <= 66.02):\n",
    "    print(\"That age is in thwe Cenozoic!\")\n",
    "elif age_in_Ma <= 252:\n",
    "    print(\"That age is in the Mesozoic!\")\n",
    "    print(\"(Dino kids would love it here!)\")\n",
    "elif age_in_Ma <= 541:\n",
    "    print(\"That age is in the Paleozoic!\")\n",
    "elif age_in_Ma <= 2500:\n",
    "    print(\"That age is in the Proterozoic!\")\n",
    "elif age_in_Ma <= 4000:\n",
    "    print(\"That age is in the Archean!\")\n",
    "elif age_in_Ma <= 4000:\n",
    "    print(\"That age is in the Hadean!\")\n",
    "elif age_in_Ma <= 4543:\n",
    "    print(\"That age is in the protoplanetary disc!\")\n",
    "\n",
    "print(\"But YOU are in the present. Have a good day!\")"
   ]
  },
  {
   "cell_type": "code",
   "execution_count": 17,
   "id": "7a0fe740-75ab-4c98-b4b7-8f1dcf7ba705",
   "metadata": {},
   "outputs": [
    {
     "name": "stdout",
     "output_type": "stream",
     "text": [
      "odd\n"
     ]
    }
   ],
   "source": [
    "number = 7\n",
    "if number % 2 == 0: print(\"even\")\n",
    "else:\n",
    "    print(\"odd\")"
   ]
  },
  {
   "cell_type": "markdown",
   "id": "6b918b74-c469-459c-aaf1-7436c436f02c",
   "metadata": {},
   "source": [
    "Further reading, from RealPython:\n",
    "\n",
    "- [One-line `if` statements](https://realpython.com/python-conditional-statements/#one-line-if-statements)\n",
    "- [Conditional expressions](https://realpython.com/python-conditional-statements/#conditional-expressions-pythons-ternary-operator)"
   ]
  },
  {
   "cell_type": "markdown",
   "id": "d68e7891-6a4d-4d20-9261-3639a9376345",
   "metadata": {},
   "source": [
    "## Part 3: `for` statements\n",
    "\n"
   ]
  },
  {
   "cell_type": "code",
   "execution_count": null,
   "id": "0d32cfb1-344f-4a5f-bbab-fa8d0caf4f25",
   "metadata": {},
   "outputs": [],
   "source": []
  }
 ],
 "metadata": {
  "kernelspec": {
   "display_name": "Python [conda env:base] *",
   "language": "python",
   "name": "conda-base-py"
  },
  "language_info": {
   "codemirror_mode": {
    "name": "ipython",
    "version": 3
   },
   "file_extension": ".py",
   "mimetype": "text/x-python",
   "name": "python",
   "nbconvert_exporter": "python",
   "pygments_lexer": "ipython3",
   "version": "3.12.7"
  }
 },
 "nbformat": 4,
 "nbformat_minor": 5
}
