{
 "cells": [
  {
   "cell_type": "markdown",
   "id": "55d711b3-c3bf-4115-8aa2-1799078b21a5",
   "metadata": {},
   "source": [
    "# Week 6 Notes: Control Flow\n",
    "\n",
    "In past weeks, the Python interpreter has executed every single one of our lines once, in the order that they appear in our code.  This week, we start to control which lines of code are run under what conditions, and to execute our code many times over.  Read more at [Wikipedia](https://en.wikipedia.org/wiki/Control_flow).  \n",
    "\n",
    "## Part 1: Boolean data and Boolean logic\n",
    "\n",
    "Before we start, we need one more piece of the puzzle: a new data type called a Boolean data type or, in Python, `bool`. [Boolean algebra](https://en.wikipedia.org/wiki/Boolean_algebra) is the math of true and false, logical values and operations. You probably learned some in grade school  In Python, a Boolean can be `True` or `False`.  \n",
    "\n",
    "A Boolean expression is one that evaluates to `True` or `False`, often using Boolean operators. Those include `and`, `or`, and `not`.\n",
    "\n",
    "Experiment with combining `bool` values and these three new operators below:"
   ]
  },
  {
   "cell_type": "code",
   "execution_count": 9,
   "id": "5ea9c034-8b04-4775-9e4e-b7ba06c475f3",
   "metadata": {},
   "outputs": [
    {
     "name": "stdout",
     "output_type": "stream",
     "text": [
      "False\n"
     ]
    }
   ],
   "source": []
  },
  {
   "cell_type": "markdown",
   "id": "5d775ee8-7303-40ff-8fa5-e3fcd824c7d4",
   "metadata": {},
   "source": [
    "Another way to use `bool`s is to evaluate comparisons, such as inequalities. From the [Python docs](https://docs.python.org/3/library/stdtypes.html#comparisons):\n",
    "\n",
    "| Operation | Meaning |\n",
    "| --------- | ------- |\n",
    "| `<`      | strictly less than |\n",
    "| `<=`     | less than or equal |\n",
    "| `>`      | strictly greater than |\n",
    "| `>=`     | greater than or equal |\n",
    "| `==`     | equal |\n",
    "| `!=`     | not equal |\n",
    "| `is`     | object identity |\n",
    "| `is not` | negated object identity |\n",
    "| `in`     | is an element in a list |\n",
    "\n",
    "We can use these to create <ins>Boolean expressions</ins>, or bits of code that evaluate to `True` or `False`.  Try a few below using familar numbers:"
   ]
  },
  {
   "cell_type": "code",
   "execution_count": 30,
   "id": "555eb7b1-b1cd-43e1-9e9d-02322bcefe05",
   "metadata": {},
   "outputs": [
    {
     "data": {
      "text/plain": [
       "False"
      ]
     },
     "execution_count": 30,
     "metadata": {},
     "output_type": "execute_result"
    }
   ],
   "source": [
    "2 + 2 < 4"
   ]
  },
  {
   "cell_type": "markdown",
   "id": "9eb4342e-3822-4834-882d-60e4ca908b2a",
   "metadata": {},
   "source": [
    "Now combine some inequalities along with `and`, `or`, and `not` to create some more complicated Boolean expressions:"
   ]
  },
  {
   "cell_type": "code",
   "execution_count": 35,
   "id": "bd4b3470-0602-4392-ac82-c6d9dab3d742",
   "metadata": {},
   "outputs": [
    {
     "data": {
      "text/plain": [
       "False"
      ]
     },
     "execution_count": 35,
     "metadata": {},
     "output_type": "execute_result"
    }
   ],
   "source": [
    "(1 > 3) and (2 == 2)"
   ]
  },
  {
   "cell_type": "markdown",
   "id": "28bc5492-2448-456a-bf5b-a44162de378e",
   "metadata": {},
   "source": [
    "Our last new operator for the day is a mathematical operator. No need for NumPy, it's one of the few built into Python. The modulo operator, `%` gives you the remainder after division. So `9 % 3` is 0 because there is no remainder after 9 is divided by 3, but `10 % 3` is 1 because the remainder after dividing 10 by 3 is 1.\n",
    "\n",
    "**Example:** The summer olympics is every four years, and the last one in Paris was in 2024. Write a Boolean expression that returns `True` if the year you type is a year of the summer olympics, and `false` if the year you type is not a summer olympics year.  If you have time, write another for the winter olympics!  If we have time, we'll talk about \"truthy\" and \"falsey\"."
   ]
  },
  {
   "cell_type": "code",
   "execution_count": 41,
   "id": "454b9e89-2e5c-4571-af9c-0e35783a5295",
   "metadata": {},
   "outputs": [
    {
     "data": {
      "text/plain": [
       "0"
      ]
     },
     "execution_count": 41,
     "metadata": {},
     "output_type": "execute_result"
    }
   ],
   "source": [
    "year = 2734\n",
    "\n",
    "is_summer_olympics = (year % 4) == 0\n",
    "is_winter_olympics = (year % 4) == 2"
   ]
  },
  {
   "cell_type": "code",
   "execution_count": 50,
   "id": "6c56752e-d514-4dd8-a81c-fbeffd89a8cf",
   "metadata": {},
   "outputs": [
    {
     "data": {
      "text/plain": [
       "True"
      ]
     },
     "execution_count": 50,
     "metadata": {},
     "output_type": "execute_result"
    }
   ],
   "source": [
    "not (     12    %    4   )"
   ]
  },
  {
   "cell_type": "markdown",
   "id": "664327ce-40a9-4c11-97f7-3f790d7bede8",
   "metadata": {},
   "source": [
    "## Part 2: The `if` statement\n",
    "\n",
    "Here it is, our first control structure. We'll let the program decide whether to evaluate some code, conditional on a Boolean expression.  For a nice in-depth `if` statement tutorial, [RealPython](https://realpython.com/python-conditional-statements/) does a nice job.  \n",
    "\n",
    "An `if` statement looks like\n",
    "\n",
    "```{python}\n",
    "if <Boolean expression>:\n",
    "    <some code>\n",
    "```\n",
    "\n",
    "There are five parts and all of them are required:\n",
    "1. The `if` keyword\n",
    "2. The Boolean expression, which evaluates to `True` or `False`\n",
    "3. The colon before the line break\n",
    "4. The indent after the line break\n",
    "5. The code you want to evaluate if the Boolean expression is `True`. Your code doesn't include the <>.\n",
    "\n",
    "Python doesn't care how many spaces you put between the numbers and the plus sign in `1 + 1` but it really cares that you indent the code that you want to evaluate if the condition is `True`.  Four spaces is standard. When you hit the `<tab>` key, most code editors will default to four spaces or let you choose what gets inserted.  \n",
    "\n",
    "### Exercise 2.1: \n",
    "\n",
    "According to the trusty [GSA Time Scale](https://rock.geosociety.org/net/documents/gsa/timescale/timescl.pdf?v=2022) and our best available U-Pb geochronology, the Cenozoic period started 66.02 million years ago (abbreviated Ma). Write a line of code that assigns a number like 12 to the variable `age_in_Ma`. Then write an `if` statement that prints \"That age is in the Cenozoic!\" if the age is in the Cenozoic Era.  "
   ]
  },
  {
   "cell_type": "code",
   "execution_count": 58,
   "id": "ccda5085-0fc9-4088-b20e-21bddf515c09",
   "metadata": {},
   "outputs": [
    {
     "name": "stdout",
     "output_type": "stream",
     "text": [
      "that's in the Cenozoic!\n",
      "that's recent!\n",
      "compared to the Archean\n",
      "that was easy!\n"
     ]
    }
   ],
   "source": [
    "age_in_Ma = 66\n",
    "\n",
    "if age_in_Ma < 66.02:\n",
    "    print(\"that's in the Cenozoic!\")\n",
    "    print(\"that's recent!\")\n",
    "    print(\"compared to the Archean\")\n",
    "\n",
    "print(\"that was easy!\")"
   ]
  },
  {
   "cell_type": "markdown",
   "id": "93a2482e-06a2-4f1b-b1e5-0d8efa8bbe7d",
   "metadata": {},
   "source": [
    "### Part 2.2 `else:`\n",
    "\n",
    "Now we'd like to print out some more information about our age, like for instance whether the `age_in_Ma` is before the Cenozoic. Instead of writing a new `if` statement with a new Boolean expression, we can just use the one we already made and tack on an `else` statement.  The new structure should look like:\n",
    "\n",
    "```{python}\n",
    "if <Boolean expression>:\n",
    "    <some code if expression is True>\n",
    "else:\n",
    "    <some code if expression is False>\n",
    "```\n",
    "\n",
    "Copy and paste your time scale code below and add an `else:` that prints \"That age is before the Cenozoic.\" if the age is pre-Cenozoic."
   ]
  },
  {
   "cell_type": "code",
   "execution_count": 60,
   "id": "ae2408df-0db5-4945-a32f-5f46b5233712",
   "metadata": {},
   "outputs": [
    {
     "name": "stdout",
     "output_type": "stream",
     "text": [
      "That's before the Cenozoic\n"
     ]
    }
   ],
   "source": [
    "age_in_Ma = 100\n",
    "\n",
    "if age_in_Ma < 66.02:\n",
    "    print(\"That's in the Cenozoic!\")\n",
    "else:\n",
    "    print(\"That's before the Cenozoic\")\n"
   ]
  },
  {
   "cell_type": "markdown",
   "id": "7d17f9ee-7f61-442b-900e-170bb9fae87e",
   "metadata": {},
   "source": [
    "### Part 2.3: `elif:`\n",
    "\n",
    "That's more informative! Now we want to add more eras to our code. To do that, instead of adding another `if` statement, we'll tack onto the one we already have, since we are just up to one thing: figuring out what era our age belongs to.  \n",
    "\n",
    "But! We do need another condition that includes the the age of the Permo-Triassic boundary, the end of the Paleozoic Era and the start of the Mesozoic Era.  We can add an additional condition to our if statement using `elif`, short for \"else if\".  \n",
    "\n",
    "```{python}\n",
    "if <Boolean expression>:\n",
    "    <some code if expression is True>\n",
    "elif <if first Boolean is false, evaluate this next>:\n",
    "    <and run this code if the second condition is True>\n",
    "else:\n",
    "    <some code if all above expressions are False>\n",
    "```\n",
    "\n",
    "You can stack as many `elif` statements as you want. They all get tested in sequence, and the the first one that is `True` runs the code indented underneath it.  I think of this like a [coin sorter](https://youtu.be/ykvUE8Ad8Ls?feature=shared&t=662) where the series of `if` and `elif` statements are a series of holes and the indented code underneath them are the holes that the coins fall into.\n",
    "\n",
    "**Exercise 2.3** Copy and paste your time scale code from above, and modify it so that it tells you if `age_in_Ma` is in the \"Cenozoic\", \"Mesozoic\", or \"Paleozoic or earlier\".  Bonus: add the Proterozoic, Archean, and Hadean. No matter what the value of `age_in_Ma` is, have the computer print \"You're in the present. Have a good day!\" afterwards.\n"
   ]
  },
  {
   "cell_type": "code",
   "execution_count": 73,
   "id": "edf3cf4e-660a-4450-bc6b-8d0ada02248e",
   "metadata": {},
   "outputs": [
    {
     "name": "stdout",
     "output_type": "stream",
     "text": [
      "That's in the Mesozoic!\n",
      "Time of the dinosaurs!!!\n",
      "and mosquitos\n",
      "You're in the present. Have a good day!\n",
      "even\n",
      " steven\n"
     ]
    }
   ],
   "source": [
    "age_in_Ma = 100\n",
    "\n",
    "if age_in_Ma < 66.02:\n",
    "    print(\"That's in the Cenozoic!\")\n",
    "elif age_in_Ma < 252:\n",
    "    print(\"That's in the Mesozoic!\")\n",
    "    print(\"Time of the dinosaurs!!!\")\n",
    "    print(\"and mosquitos\")\n",
    "elif age_in_Ma < 541:\n",
    "    print(\"That's in the Paleozoic!\")\n",
    "else:\n",
    "    print(\"That's before the Paleozoic\")\n",
    "\n",
    "print(\"You're in the present. Have a good day!\")\n",
    "\n",
    "number = 8\n",
    "if number % 2 == 0: print(\"even\")\n",
    "\n"
   ]
  },
  {
   "cell_type": "markdown",
   "id": "6b918b74-c469-459c-aaf1-7436c436f02c",
   "metadata": {},
   "source": [
    "Further reading, from RealPython:\n",
    "\n",
    "- [One-line `if` statements](https://realpython.com/python-conditional-statements/#one-line-if-statements)\n",
    "- [Conditional expressions](https://realpython.com/python-conditional-statements/#conditional-expressions-pythons-ternary-operator)"
   ]
  },
  {
   "cell_type": "markdown",
   "id": "d68e7891-6a4d-4d20-9261-3639a9376345",
   "metadata": {},
   "source": [
    "## Part 3: `for` statements\n",
    "\n",
    "This is the way to repeat a block of code many times -- as many as you like! It's one of several kinds of loops you find in programming langauges, but it's probably the most frequently used in scientific programming.  If you know this one, you're covered 99.9% of the time.  \n",
    "\n",
    "How you set up the for loop depends mostly on what you want to do inside the for loop.  We'll learn a basic template and then see how you can skip a few steps using some Python powers.  \n",
    "\n",
    "### 3.1 The most basic `for` loop\n",
    "\n",
    "A basic `for` loop executes a block of code a pre-arranged number of times.  We're going to use NumPy arrays to make the for loop workings transparent, then we'll introduce some new tricks.\n",
    "\n",
    "If you want to repeat a process 10 times, you might use the code that looks something like:\n",
    "\n",
    "```{python}\n",
    "loop_count = 10\n",
    "loop_indices = np.arange(loop_count)\n",
    "\n",
    "for index in loop_indices:\n",
    "    print(\"This is loop \", index)\n",
    "```\n",
    "\n",
    "Copy and paste the code below, then let's talk through what happens at each step in the loop.\n"
   ]
  },
  {
   "cell_type": "code",
   "execution_count": 4,
   "id": "0d32cfb1-344f-4a5f-bbab-fa8d0caf4f25",
   "metadata": {},
   "outputs": [
    {
     "name": "stdout",
     "output_type": "stream",
     "text": [
      "This is loop  0\n",
      "This is loop  1\n",
      "This is loop  2\n",
      "This is loop  3\n",
      "This is loop  4\n",
      "This is loop  5\n",
      "This is loop  6\n",
      "This is loop  7\n",
      "This is loop  8\n",
      "This is loop  9\n"
     ]
    }
   ],
   "source": [
    "import numpy as np\n",
    "\n",
    "loop_count = 10\n",
    "loop_indices = np.arange(loop_count)\n",
    "\n",
    "for index in loop_indices:\n",
    "    print(\"This is loop \", index)"
   ]
  },
  {
   "cell_type": "code",
   "execution_count": 12,
   "id": "89c48a7f-e453-441c-81b1-2b24be03d941",
   "metadata": {},
   "outputs": [
    {
     "data": {
      "text/plain": [
       "array([0, 1, 2, 3, 4, 5, 6, 7, 8, 9])"
      ]
     },
     "execution_count": 12,
     "metadata": {},
     "output_type": "execute_result"
    }
   ],
   "source": [
    "loop_count = 10\n",
    "loop_indices = np.arange(loop_count)\n",
    "loop_indices"
   ]
  },
  {
   "cell_type": "markdown",
   "id": "51f3b5f5-3104-4730-87bb-df6472d82024",
   "metadata": {},
   "source": [
    "There were six ingredients to writing this for loop:\n",
    "1. The `for` keyword\n",
    "2. A brand new variable that gets created by the `for` structure. In this case, it's called `index.`\n",
    "3. The keyword `in`\n",
    "4. The *iterable* or list/collection of things to iterate over. We'll do the loop once for each item in this list/collection. In our example, we used a NumPy array, and we'll explore other iterables below.\n",
    "5. The colon. Non-optional!\n",
    "6. An indented code block that gets iterated.  Like the `if` structure, everything indented to the same level is included in the block.\n",
    "\n",
    "Here's an example of using a list as an iterable:  The first names in our class, input as a Python list, are \n",
    "```{python}\n",
    "class_names = [\"Charles\", \"Baris\", \"Caden\", \"Laiken\", \"Elijah\", \"Megan\", \"Dan\", \"Brooke\", \"Lily\", \"Yakov\"]\n",
    "```\n",
    "Make a for loop that says \"Hello!\" to everyone in class by name."
   ]
  },
  {
   "cell_type": "code",
   "execution_count": 36,
   "id": "7191457a-5d26-4a44-9a5e-78ff3a9ae985",
   "metadata": {},
   "outputs": [
    {
     "name": "stdout",
     "output_type": "stream",
     "text": [
      "Hey  Charles !\n",
      "Hey  Baris !\n",
      "Hey  Caden !\n",
      "Hey  Laiken !\n",
      "Hey  Elijah !\n",
      "Hey  Megan !\n",
      "Hey  Dan !\n",
      "Hey  Brooke !\n",
      "Hey  Lily !\n",
      "Hey  Yakov !\n"
     ]
    },
    {
     "data": {
      "text/plain": [
       "10"
      ]
     },
     "execution_count": 36,
     "metadata": {},
     "output_type": "execute_result"
    }
   ],
   "source": [
    "class_names = [\"Charles\", \"Baris\", \"Caden\", \"Laiken\", \"Elijah\", \"Megan\", \"Dan\", \"Brooke\", \"Lily\", \"Yakov\"]\n",
    "\n",
    "loop_count = 9\n",
    "loop_indices = class_names\n",
    "\n",
    "for name in loop_indices:\n",
    "    print(\"Hey \", name, \"!\")\n",
    "\n",
    "len(class_names)"
   ]
  },
  {
   "cell_type": "markdown",
   "id": "52278ba0-a161-4f0e-a971-ea1a0dcd62c8",
   "metadata": {},
   "source": [
    "Instead of creating a whole NumPy array with a value for each number you want to iterate over you can use a new data type called a range. These are especially handy in `for` loops. The syntax is \n",
    "- `range(stop)` (start at 0, stop just before `stop`, increment by 1)\n",
    "- `range(start, stop)` (start at `start`, stop just before `stop`, increment by 1)\n",
    "- `range(start, stop, step)` (start at `start`, stop just before `stop`, increment by `step`)\n",
    "\n",
    "You can see how long a range is with the `len()` function, and see its `max()` and `min()` values, but you can't see it all of its elements displayed at the same time with the `print()` command like you can a NumPy array.  All those values don't exist in memory at once, the object is just the rule for creating them via `start`, `stop`, `step`.\n",
    "\n",
    "Here's another loop that runs 10 times\n",
    "\n",
    "```{python}\n",
    "for index in range(10):\n",
    "    print(\"This is loop \", index)\n",
    "```\n",
    "\n",
    "Exercise: Make a loop that prints out all the even numbers between 0 and 20. Bonus: code this in as many ways as you can think of."
   ]
  },
  {
   "cell_type": "code",
   "execution_count": 40,
   "id": "5caf721e-399e-4c47-ae40-43e0758dd0c8",
   "metadata": {},
   "outputs": [
    {
     "name": "stdout",
     "output_type": "stream",
     "text": [
      "This is loop  0\n",
      "This is loop  1\n",
      "This is loop  2\n",
      "This is loop  3\n",
      "This is loop  4\n",
      "This is loop  5\n",
      "This is loop  6\n",
      "This is loop  7\n",
      "This is loop  8\n",
      "This is loop  9\n"
     ]
    }
   ],
   "source": [
    "for index in range(10):\n",
    "    print(\"This is loop \", index)"
   ]
  },
  {
   "cell_type": "code",
   "execution_count": 42,
   "id": "5902df6f-9320-4119-9801-c787d190aaa7",
   "metadata": {},
   "outputs": [
    {
     "name": "stdout",
     "output_type": "stream",
     "text": [
      "evens 0\n",
      "evens 2\n",
      "evens 4\n",
      "evens 6\n",
      "evens 8\n",
      "evens 10\n",
      "evens 12\n",
      "evens 14\n",
      "evens 16\n",
      "evens 18\n",
      "evens 20\n"
     ]
    }
   ],
   "source": [
    "for number in range(0, 21, 2):\n",
    "    print(\"evens\", number)"
   ]
  },
  {
   "cell_type": "markdown",
   "id": "1e2eb17d-289f-4cd6-9441-1533e7b64237",
   "metadata": {},
   "source": [
    "### Part 3.2: Doing math in loops\n",
    "\n",
    "Loops are particularly helpful in doing math by brute force.  For instance, say we want to find the cumulative sum of the integers from 1 to $n$. For instance, we might want to track the number of food items the very hungry caterpillar has eaten. The formula is $n(n+1)/2$, but you forgot. You can use a `for` loop to help you out.\n",
    "\n",
    "Example: write a `for` loop to evaluate the cumulative sum of the integers from 1 to $n$.  Test that your code works using the formula above."
   ]
  },
  {
   "cell_type": "code",
   "execution_count": 64,
   "id": "b8ed1a35-e598-45f3-b00d-b839c4ea498d",
   "metadata": {},
   "outputs": [
    {
     "name": "stdout",
     "output_type": "stream",
     "text": [
      "my sum = 78\n"
     ]
    }
   ],
   "source": [
    "sum_up_to_integer = 12\n",
    "\n",
    "# calculate the cumulative sum of integers from 1 to sum_sum_up_to_integer\n",
    "\n",
    "my_sum = 0\n",
    "\n",
    "for integer in range(1, sum_up_to_integer + 1):\n",
    "    my_sum = my_sum + integer\n",
    "\n",
    "print(\"my sum =\", my_sum)"
   ]
  },
  {
   "cell_type": "code",
   "execution_count": 2,
   "id": "ecd255b8-745e-4996-a5fa-c4509eb4d694",
   "metadata": {},
   "outputs": [
    {
     "name": "stdout",
     "output_type": "stream",
     "text": [
      "my sum = 78\n"
     ]
    }
   ],
   "source": [
    "# alternative method using the '+=' operator\n",
    "sum_up_to_integer = 12\n",
    "\n",
    "# calculate the cumulative sum of integers from 1 to sum_sum_up_to_integer\n",
    "\n",
    "my_sum = 0\n",
    "\n",
    "for integer in range(1, sum_up_to_integer + 1):\n",
    "    my_sum += integer\n",
    "\n",
    "print(\"my sum =\", my_sum)"
   ]
  },
  {
   "cell_type": "code",
   "execution_count": 84,
   "id": "f3aca8fd-87f1-45f4-8cf1-747fd09db254",
   "metadata": {},
   "outputs": [
    {
     "name": "stdout",
     "output_type": "stream",
     "text": [
      "formula sum = 78.0\n"
     ]
    }
   ],
   "source": [
    "#check with the formula that was given\n",
    "\n",
    "formula_sum = (sum_up_to_integer * (sum_up_to_integer + 1) / 2)\n",
    "print(\"formula sum =\", formula_sum)"
   ]
  },
  {
   "cell_type": "markdown",
   "id": "63d83cbf-e2e4-4f98-96fe-1fe9172f371d",
   "metadata": {},
   "source": [
    "### For loop no-nos!\n",
    "\n",
    "When you're making a for loop, there are a couple things to avoid.\n",
    "1. Modifying the loop index. Use it but don't change it!\n",
    "2. Modifying the iterable itself. This can be done carefully, but it will throw a warning -- it's easier to find a way not to do this.\n",
    "\n",
    "### Part 3.3 Using the loop index to index into an array or list\n",
    "\n",
    "That loop index is really useful.  For instance, you might have an array called square_side_length and you'd like to calculate a new array called square_area but squaring each value in your original array.  You could do that (awkwardly) with a for loop like so\n",
    "\n",
    "```{python}\n",
    "square_side_length = np.array([3, 4, 8, 2, 3, 2.2, 9])\n",
    "n_squares = len(square_side_length)\n",
    "square_areas = np.zeros(n_squares)\n",
    "\n",
    "for square_index in range(n_squares):\n",
    "    square_areas[square_index] = square_side_length[square_index] ** 2\n",
    "```\n",
    "\n",
    "This syntax looks awkward but it's quite flexible. It's also the syntax that most non-Python languages use to create `for` loops.  In general, we'll try and avoid this altogether. For instance, NumPy arrays let us shorten this to \n",
    "```{python}\n",
    "square_areas = square_side_length ** 2`\n",
    "```"
   ]
  },
  {
   "cell_type": "code",
   "execution_count": null,
   "id": "bb083db6-326a-4bcf-81af-7d0529abad9f",
   "metadata": {},
   "outputs": [],
   "source": []
  },
  {
   "cell_type": "markdown",
   "id": "9bef9ec4-09fe-4682-8dc2-3904d5d6f45e",
   "metadata": {},
   "source": [
    "### Exercise 3.4\n",
    "\n",
    "The Fibonacci numbers are a recursive series where each new number is calculated as the sum of the previous two.  The series starts as $[0, \\,1, \\,\\ldots]$ and continues.  Write a `for` loop to calculate the $n$th Fibonacci number, were $n$ is input on the first line of the code.  Bonus: provide an array of all the Fibonnaci numbers up to and including the $n$th."
   ]
  },
  {
   "cell_type": "code",
   "execution_count": 129,
   "id": "a84bba96-93c9-453a-8376-a24654be625a",
   "metadata": {},
   "outputs": [
    {
     "name": "stdout",
     "output_type": "stream",
     "text": [
      "1.0\n",
      "2.0\n",
      "3.0\n",
      "5.0\n",
      "8.0\n",
      "13.0\n",
      "21.0\n",
      "34.0\n",
      "55.0\n",
      "89.0\n",
      "144.0\n",
      "The 12th Fibonacci number is 144.0\n"
     ]
    }
   ],
   "source": [
    "n_numbers = 12\n",
    "\n",
    "# create an array that we can add fibonacci numbers to\n",
    "fib_seq = np.zeros(n_numbers + 1)\n",
    "\n",
    "# fill the first two spots of that array with 1\n",
    "fib_seq[0] = 0\n",
    "fib_seq[1] = 1\n",
    "\n",
    "for fib_index in range(2, n_numbers + 1):\n",
    "    fib_seq[fib_index] = fib_seq[fib_index - 1] + fib_seq[fib_index - 2]\n",
    "    print(fib_seq[fib_index])\n",
    "\n",
    "print(\"The 12th Fibonacci number is\", fib_seq[fib_index])"
   ]
  },
  {
   "cell_type": "markdown",
   "id": "349825cb-1ea4-44bd-834d-5eef73abd633",
   "metadata": {},
   "source": [
    "### Part 3.5: Using `enumerate()`\n",
    "\n",
    "Sometimes you want to loop over a list or a pandas Series but you really need that loop index to help out.  You can do that with Python's `enumerate()` function.  Going back to our class roster, if we wanted to count off the students (starting at 0), we could use something like\n",
    "\n",
    "```{python}\n",
    "class_names = [\"Charles\", \"Baris\", \"Caden\", \"Laiken\", \"Elijah\", \"Megan\", \"Dan\", \"Brooke\", \"Lily\", \"Yakov\"]\n",
    "for index, name in enumerate(class_names):\n",
    "    print(name, \"is student number\", index)\n",
    "```\n",
    "\n",
    "Now we have two variables -- `index` and `name` that change on each loop iteration!\n",
    "\n",
    "**Exercise:** If the final grades for the class are (randomly) `class_grades = [99.1, 99.3, 99.7, 99.2, 99.3, 99.9, 99.2, 99.5, 99.8, 99.2]` then print the final grades next to each name on the class roster. Congratulations on your grades!!\n",
    "\n"
   ]
  },
  {
   "cell_type": "code",
   "execution_count": null,
   "id": "fc41b1b6-c6da-42a6-8c84-50e4fbbeb2a2",
   "metadata": {},
   "outputs": [],
   "source": []
  }
 ],
 "metadata": {
  "kernelspec": {
   "display_name": "Python [conda env:base] *",
   "language": "python",
   "name": "conda-base-py"
  },
  "language_info": {
   "codemirror_mode": {
    "name": "ipython",
    "version": 3
   },
   "file_extension": ".py",
   "mimetype": "text/x-python",
   "name": "python",
   "nbconvert_exporter": "python",
   "pygments_lexer": "ipython3",
   "version": "3.12.7"
  }
 },
 "nbformat": 4,
 "nbformat_minor": 5
}
