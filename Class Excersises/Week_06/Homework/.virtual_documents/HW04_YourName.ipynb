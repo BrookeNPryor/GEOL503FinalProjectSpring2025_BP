












































import numpy as np
sample_number = np.arange(1,11)
print(sample_number)





first_samples = sample_number < 5
print(first_samples)























glacier_speeds_summer_2020 = np.array([-2,0,74,139,151,135,126,102,87,0])
























percent_lithics = 101 # for example







material = "gravel" # for example






# some example flow parameters for a big river
mean_velocity = 2 # meters/second
water_depth = 7 # meters
density_of_water = 1000 # kg/m^3
dyn_visc_of_water = 1.05e-3 # Pa s = kg m^-1 s^-1

... your code here











flow_speed_in = 43 # cm/s, for example
grain_size_in = 0.055 # mm, for example







d_in = 0.02 # mm, for example








input_n = 20 # for example







num_list = np.array([3, 9, 9, 6, 2, 1, 7, 6, 4]) # for example






# global temperature anomaly, degrees C relative to 20th century avg
temp_anomaly = np.array(
    [0.41, 0.55, 0.62, 0.63, 0.56, 
     0.69, 0.65, 0.64, 0.54, 0.67, 
     0.73, 0.61, 0.65, 0.68, 0.75, 
     0.91, 1.03, 0.94, 0.87, 0.98, 
     1.02, 0.87, 0.90, 1.19, 1.29]
)


