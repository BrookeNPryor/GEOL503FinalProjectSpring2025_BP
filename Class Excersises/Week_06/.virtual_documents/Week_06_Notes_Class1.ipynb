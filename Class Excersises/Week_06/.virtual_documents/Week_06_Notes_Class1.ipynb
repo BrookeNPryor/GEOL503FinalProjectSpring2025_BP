


is_correct = False and False and True
print(is_correct)





import numpy as np

print(5 > np.sqrt(16))

print(4 > np.sqrt(16))

print(4 != 4)





(2 < 4) and (3 > 5)





year = 2030

is_summer_olympics = (year % 4) == 0
print(is_summer_olympics)


not (12 % 4)





age_in_Ma = 100

if (age_in_Ma <= 66.02):
    print("That age is in the Cenozoic!")





if (age_in_Ma <= 66.02):
    print("That age is in the Cenozoic!")
else:
    print("That age is before the Cenozoic (lame).")





if (age_in_Ma <= 66.02):
    print("That age is in the Cenozoic!")
elif (age_in_Ma > 66.02) and (age_in_Ma <= 251.9):
    print("That age is in the Mesozoic!")
elif (age_in_Ma > 251.9) and (age_in_Ma <= 541):
    print("That age is in the Paleozoic!")
elif (age_in_Ma > 541) and (age_in_Ma <= 2500):
    print("That age is in the Proterozoic!")

print("You're in the present. Have a good day!")


if (age_in_Ma <= 66.02):
    print("That age is in thwe Cenozoic!")
elif age_in_Ma <= 252:
    print("That age is in the Mesozoic!")
    print("(Dino kids would love it here!)")
elif age_in_Ma <= 541:
    print("That age is in the Paleozoic!")
elif age_in_Ma <= 2500:
    print("That age is in the Proterozoic!")
elif age_in_Ma <= 4000:
    print("That age is in the Archean!")
elif age_in_Ma <= 4000:
    print("That age is in the Hadean!")
elif age_in_Ma <= 4543:
    print("That age is in the protoplanetary disc!")

print("But YOU are in the present. Have a good day!")


number = 7
if number % 2 == 0: print("even")
else:
    print("odd")









