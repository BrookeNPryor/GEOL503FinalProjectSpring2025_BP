


























import pandas as pd
import matplotlib.pyplot as plt
import numpy as np

data = pd.read_csv( "Xia-et-al-2025_Supplemental-Data.csv" )

SiO2_wtpct = data[ "SiO2 (%)"]
Vp_kmps = data[ "Vp (km/s)" ]

#Make a figure
data_fig, data_axes = plt.subplots()
data_axes.plot(data["SiO2 (%)"], data["Vp (km/s)"], '.', color = "indianred", markersize = 5 )

#Make it look nice!
data_fig.set_facecolor('mintcream')
data_axes.set_xlabel("Silica Content (wt %)")
data_axes.set_ylabel("P-wave Velocity (km/s)")
plt.suptitle("P-wave Velocity Vs. Silica Content")

#Change panda series to NumPy arrays
SiO2_wtpct.to_numpy()
Vp_kmps.to_numpy()

#Change NumPy arrays to vectors
SiO2_wtpct_vector = SiO2_wtpct.to_numpy()
Vp_kmps_vector = Vp_kmps.to_numpy()

#Create our vector full of ones, equal to number of samples
number_of_samples = SiO2_wtpct_vector.shape[0]
ones_vector = np.ones(number_of_samples)

#Tie vectors together to create a matrix
design_matrix = np.column_stack((SiO2_wtpct_vector, ones_vector))

#Do least square function, which gives us 4 outputs
unknowns_vector, sum_of_squares, rank, singular_values = np.linalg.lstsq(design_matrix, Vp_kmps_vector, rcond=None)

#We only care about the first output, so we rename the others to '_'
unknowns_vector, _, _, _ = np.linalg.lstsq(design_matrix, Vp_kmps_vector, rcond=None)

#1.
slope = unknowns_vector[0]
y_intercept = unknowns_vector[1]

#2.
x_values = np.linspace(40, 80, 9)
y_values = slope * x_values + y_intercept

#3.
data_axes.plot(x_values, y_values, '-', color='steelblue', label = 'Line of Best Fit')
data_axes.legend()





print( "6.56:", ( 6.56 - y_intercept ) / slope )
print( "6.82:", ( 6.82 - y_intercept ) / slope )
print( "7.23:", ( 7.23 - y_intercept ) / slope )
print( "7.11:", ( 7.11 - y_intercept ) / slope )
print( "6.08:", ( 6.08 - y_intercept ) / slope )





print( "70.23:", slope * 70.23 + y_intercept )
print( "55.87:", slope * 55.87 + y_intercept )
print( "63.38:", slope * 63.38 + y_intercept )
print( "62.24:", slope * 62.24 + y_intercept )
print( "59.77:", slope * 59.77 + y_intercept )








penguin_data = pd.read_csv('https://portal.edirepository.org/nis/dataviewer?packageid=knb-lter-pal.221.6&entityid=fe853aa8f7a59aa84cdd3197619ef462')





flipper_length = penguin_data[ "Flipper Length (mm)"]
body_mass = penguin_data[ "Body Mass (g)" ]

#Make a figure
data_fig, data_axes = plt.subplots()
data_axes.plot(flipper_length, body_mass, '.', color = "mediumseagreen", markersize = 5 )

#Make it look nice!
data_fig.set_facecolor('mintcream')
data_axes.set_xlabel("Flipper Length (mm)")
data_axes.set_ylabel("Body Mass (g)")
plt.suptitle("Chinstrap Penguin Body Mass vs. Flipper Length")





print(np.shape(flipper_length) + np.shape(body_mass) )





#Change panda series to NumPy arrays
flipper_length.to_numpy()
body_mass.to_numpy()

#Change NumPy arrays to vectors
flipper_length_vector = flipper_length.to_numpy()
body_mass_vector = body_mass.to_numpy()

#Create our vector full of ones, equal to number of samples
number_of_samples = flipper_length_vector.shape[0]
ones_vector = np.ones(number_of_samples)

#Tie vectors together to create a matrix
fl_design_matrix = np.column_stack((flipper_length_vector, ones_vector))





#Do least square function, which gives us 4 outputs
fl_unknowns_vector, fl_sum_of_squares, fl_rank, fl_singular_values = np.linalg.lstsq(fl_design_matrix, body_mass_vector, rcond=None)

#We only care about the first output, so we rename the others to '_'
fl_unknowns_vector, _, _, _ = np.linalg.lstsq(fl_design_matrix, body_mass_vector, rcond=None)





#1.
slope = fl_unknowns_vector[0]
y_intercept = fl_unknowns_vector[1]

#2.
x_values = np.linspace(180, 210, 9)
y_values = slope * x_values + y_intercept

#3.
data_axes.plot(x_values, y_values, '-', color='seagreen', label = 'Line of Best Fit')
data_axes.legend()

#4.
data_fig





slope * 191 + y_intercept





( 4120 - y_intercept ) / slope





print("Homework feedback-- are there any panda related data sets out there to work with ? Now I really want to use pandas to analyze pandas")
data_fig

#Make a figure
data_fig, data_axes = plt.subplots()
data_axes.plot(body_mass, flipper_length, '.', color = "mediumseagreen", markersize = 5 )

#Make it look nice!
data_fig.set_facecolor('mintcream')
data_axes.set_xlabel("Body Mass (g)")
data_axes.set_ylabel("Flipper Length (mm)")
plt.suptitle("Chinstrap Penguin Flipper Length vs. Body Mass")

#Change panda series to NumPy arrays
flipper_length.to_numpy()
body_mass.to_numpy()

#Change NumPy arrays to vectors
flipper_length_vector = flipper_length.to_numpy()
body_mass_vector = body_mass.to_numpy()

#Create our vector full of ones, equal to number of samples
number_of_samples = body_mass_vector.shape[0]
ones_vector = np.ones(number_of_samples)

#Tie vectors together to create a matrix
bm_design_matrix = np.column_stack((body_mass_vector, ones_vector))

#Do least square function, which gives us 4 outputs
bm_unknowns_vector, bm_sum_of_squares, bm_rank, bm_singular_values = np.linalg.lstsq(bm_design_matrix, flipper_length_vector, rcond=None)

#We only care about the first output, so we rename the others to '_'
bm_unknowns_vector, _, _, _ = np.linalg.lstsq(bm_design_matrix, flipper_length_vector, rcond=None)

#1.
slope_bm = bm_unknowns_vector[0]
y_intercept_bm = bm_unknowns_vector[1]

#2.
x_values_bm = np.linspace(3000, 4500, 9)
y_values_bm = slope_bm * x_values_bm + y_intercept_bm

#3.
data_axes.plot(x_values_bm, y_values_bm, '-', color='seagreen', label = 'Line of Best Fit')
data_axes.legend()


print("Just curious what it says now...")
type(flipper_length)





( 191 - y_intercept_bm ) / slope_bm





slope_bm * 4120 + y_intercept_bm















