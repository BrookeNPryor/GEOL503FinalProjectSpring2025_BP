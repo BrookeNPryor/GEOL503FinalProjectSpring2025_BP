


import pandas as pd
import matplotlib.pyplot as plt
import numpy as np


data = pd.read_csv( "Xia-et-al-2025_Supplemental-Data.csv" )

SiO2_wtpct = data[ "SiO2 (%)"]
Vp_kmps = data[ "Vp (km/s)" ]

#Make a figure
data_fig, data_axes = plt.subplots()
data_axes.plot(data["SiO2 (%)"], data["Vp (km/s)"], '.', color="mediumseagreen", markersize = 5 )

#Make it pretty!
data_fig.set_facecolor('mintcream')
data_axes.set_xlabel("Silica Content (wt %)")
data_axes.set_ylabel("P-wave Velocity (km/s)")
plt.suptitle("P-wave Velocity Vs. Silica Content")

plt.show()





#Change panda series to NumPy arrays
SiO2_wtpct.to_numpy()
Vp_kmps.to_numpy()

#Change NumPy arrays to vectors
SiO2_wtpct_vector = SiO2_wtpct.to_numpy()
Vp_kmps_vector = Vp_kmps.to_numpy()

#Create our vector full of ones, equal to number of samples
number_of_samples = SiO2_wtpct_vector.shape[0]
ones_vector = np.ones(number_of_samples)

#Tie vectors together to create a matrix
design_matrix = np.column_stack((SiO2_wtpct_vector, ones_vector))





#Do least square function, which gives us 4 outputs
unknowns_vector, sum_of_squares, rank, singular_values = np.linalg.lstsq(design_matrix, Vp_kmps_vector, rcond=None)

#We only care about the first output, so we rename the others to '_'
unknowns_vector, _, _, _ = np.linalg.lstsq(design_matrix, Vp_kmps_vector, rcond=None)





#1.
slope = unknowns_vector[0]
y_intercept = unknowns_vector[1]

#2.
x_values = np.linspace(40, 80, 9)
y_values = slope * x_values + y_intercept

#3.
data_axes.plot(x_values, y_values, '-', color='seagreen', label = 'Line of Best Fit')
data_axes.legend()

#4.
data_fig









