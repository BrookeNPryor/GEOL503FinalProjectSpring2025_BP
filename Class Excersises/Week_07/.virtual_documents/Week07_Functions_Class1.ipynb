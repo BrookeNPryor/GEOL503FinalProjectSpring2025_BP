


def say_hello():
    print('hello!')

say_hello()





import numpy as np
import matplotlib.pyplot as plt
import pandas as pd

def plot_some_pwaves():
    data = pd.read_csv( "Xia-et-al-2025_Supplemental-Data.csv" )
    SiO2_wtpct = data[ "SiO2 (%)"]
    Vp_kmps = data[ "Vp (km/s)" ]
    data_fig, data_axes = plt.subplots()
    data_axes.plot(data["SiO2 (%)"], data["Vp (km/s)"], '.', color="mediumseagreen", markersize = 5 )
    data_fig.set_facecolor('mintcream')
    data_axes.set_xlabel("Silica Content (wt %)")
    data_axes.set_ylabel("P-wave Velocity (km/s)")
    plt.suptitle("P-wave Velocity Vs. Silica Content")

plot_some_pwaves()





def square_this(factor):
    if factor<0:my_square = factor ** 2
    print(my_square)

square_this(3)


def square_this(factor):
    if factor<0:
        print("I don't want to square that!")
        
    print(factor ** 2)

square_this(3)





def geologic_age(age_in_Ma):
    if age_in_Ma < 0:
        print("That's from the future!")
    elif age_in_Ma == 0:
        print("That's literally right now")
    elif age_in_Ma <= 66.02:
        print("That age is in the Cenozoic!")
    elif age_in_Ma <= 252:
        print("That age is in the Mesozoic!")
        print("(Dino kids would love it here!)")
    elif age_in_Ma <= 541:
        print("That age is in the Paleozoic!")
    elif age_in_Ma <= 2500:
        print("That age is in the Proterozoic!")
    elif age_in_Ma <= 4000:
        print("That age is in the Archean!")
    elif age_in_Ma <= 4000:
        print("That age is in the Hadean!")
    elif age_in_Ma >= 4543:
        print("That age is in the protoplanetary disc!")

geologic_age(50000)





def square_this(factor):
    my_square = factor ** 2
    return my_square

area_square = square_this(3)
extra_area = 5 # hectares

total_area = area_square + extra_area
print(total_area)





def geologic_age(age_in_Ma):
    if age_in_Ma < 0:
        return "That's from the future!"
    elif age_in_Ma == 0:
        return "That's literally right now"
    elif age_in_Ma <= 66.02:
        return "That age is in the Cenozoic!"
    elif age_in_Ma <= 252:
        return "That age is in the Mesozoic!"
        print("(Dino kids would love it here!)")
    elif age_in_Ma <= 541:
        return "That age is in the Paleozoic!"
    elif age_in_Ma <= 2500:
        return "That age is in the Proterozoic!"
    elif age_in_Ma <= 4000:
        return "That age is in the Archean!"
    elif age_in_Ma <= 4000:
        return "That age is in the Hadean!"
    elif age_in_Ma >= 4543:
        return "That age is in the protoplanetary disc!"

geologic_age(50000)

sample_age_Ma = 100
sample_era = geologic_age(sample_age_Ma)
print(sample_era)





def quadratic_function(x, a, b, c):
    return a * x**2 + b*x + c

quadratic_function(1, 2, 3, 4)



