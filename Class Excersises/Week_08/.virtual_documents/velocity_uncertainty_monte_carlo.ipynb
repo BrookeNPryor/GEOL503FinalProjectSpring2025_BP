















































import numpy as np 
import matplotlib.pyplot as plt 





def uniform_pdf(x, a, b):
    return np.where((x >= a) & (x <= b), 1 / (b - a), 0)

x = np.linspace(0, 7, 1000)
y = uniform_pdf(x, 1, 6)

plt.plot(x, y)
plt.title('PDF of Uniform Distribution')
plt.xlabel('x')
plt.ylabel('f(x)')
plt.ylim(0, 0.5)
plt.show()








def circle_sample(n_samples, r, x_off=0, y_off=0):
    """
    Randomly sample locations within a circle from a uniform probability distribution 
    Inspired by this stack overflow response https://stackoverflow.com/questions/61401747/random-function-in-python-to-generate-random-pair-inside-a-circle

        Parameters
    ----------
    n_samples : int
        Number of samples to take
    r : float
        Error radius of circle
    x_off : float, default 0
        offset in x direction. 
        How far the feature moved in the x direction.
    y_off : float, default 0 
        offset in y direction. 
        How far the feature moved in the y direction.
        
        Returns
    -------
    x_point : np.ndarray
        array of x coordinates of a randomly generated points in a circle with size = n_samples
    y_point : np.ndarray
        array of y coordinates of a randomly generated points in a circle with size = n_samples
    x_circ : np.ndarray
        array of x coordinates of a a circle with size = n_samples
    y_circ : np.ndarray
        array of y coordinates of a a circle with size = n_samples
    """
    
    # make a unit circle 
    # convert from polar (r, theta) to cartesian (x, y)
    theta = np.linspace(0, 2*np.pi, n_samples)
    
    # xy of a circle
    x_circ = r * np.cos(theta) + x_off # scale with x offset
    y_circ = r * np.sin(theta) + y_off # scale with y offset

    # get random numbers from uniform distribution
    t = np.random.uniform(0, 1, size=n_samples)
    u = np.random.uniform(0, 1, size=n_samples)

    # Caution from picking random variables in a uniform distribution within a circle
    # https://mathworld.wolfram.com/DiskPointPicking.html
    # a good explanation of the problem is here https://apps.dtic.mil/sti/pdfs/ADA626479.pdf
    x_point = (r*np.sqrt(t) * np.cos(2*np.pi*u)) + x_off
    y_point = (r*np.sqrt(t) * np.sin(2*np.pi*u)) + y_off
    

    return x_point, y_point, x_circ, y_circ    


def circle_plot(x_point, y_point, x_circ, y_circ, x_off=0, y_off=0):
    """
    Plot results from circle_sample function

        Parameters
    ----------
    x_point : np.ndarray
        array of x coordinates of a randomly generated points in a circle with size = n_samples
    y_point : np.ndarray
        array of y coordinates of a randomly generated points in a circle with size = n_samples
    x_circ : np.ndarray
        array of x coordinates of a a circle with size = n_samples
    y_circ : np.ndarray
        array of y coordinates of a a circle with size = n_samples
        
        Return
    -------
        None
    """
    plt.figure(figsize=(7,7))
    # plot the circle
    plt.plot(x_circ, y_circ, linestyle='-', linewidth=2, label='Circle', color='red') # default plt.plot plots line 
    # plot the points
    plt.scatter(x_point, y_point, marker='o',  label='Samples')

    plt.xlabel('meters')
    plt.ylabel('meters')
    plt.grid()
    plt.legend(loc='upper right')
    plt.show(block=True)














n_samples = int(1e3) # number of samples to take within our uncertainty radius
r = 5.0 # our uncertainty radius in meters


x1, y1, a1, b1 = circle_sample(n_samples, r)
circle_plot(x1, y1, a1, b1)

# add an offset to simulate the feature moving some distance
x2, y2, a2, b2 = circle_sample(n_samples, r, x_off=6.4, y_off=-0.52)
circle_plot(x2, y2, a2, b2)





fig, ax = plt.subplots(1,1, figsize=(7,7))

# Postion Error
# Mix up the scatter points and then calculate the difference between them
random_x1 = np.random.choice(x1, size=(int(n_samples), 1))
random_x2 = np.random.choice(x2, size=(int(n_samples), 1))

# We need to make up the time it took to move from position one to position 2
time_delta = 5.0 #hours

velocity_arr = ((random_x2-random_x1)/time_delta) #units meters / hour
velocity_arr_res = velocity_arr - np.mean(velocity_arr) # center around zero

ax.hist(velocity_arr_res, bins=100, edgecolor='black')
vel_unit = r'm hr$^{-1}$'

ax.set_xlabel(vel_unit)
sigma = np.std(velocity_arr_res)
sigma_txt = r'$\sigma$'
ax.text(0.0, .95, f'{sigma_txt} = {sigma:.3f} {vel_unit}', transform=hist_plot.transAxes, size=15, va='top', ha='left')
ax.text(0.90, .95, f'r = {r} m', transform=hist_plot.transAxes, size=15, va='top', ha='right')
ax.set_title('Velocity Error Probability')









































import matplotlib.patches as patches
fig, ax = plt.subplots()
# make a unit circle 
# convert from polar (r, theta) to cartesian (x, y)
# Borrow code from above
theta = np.linspace(0, 2*np.pi, 1000)
# xy of a circle
x_circ = 1 * np.cos(theta)
y_circ = 1 * np.sin(theta)

# Define the bottom-left corner of the square, width, and height
x, y = -1, -1
width, height = 2, 2

# Create a Rectangle patch
rect = patches.Rectangle((x, y), width, height, linewidth=1, edgecolor='r', facecolor='none')

# Add the patch to the Axes
ax.add_patch(rect)

ax.plot(x_circ, y_circ)
ax.set_xlim(-1.5,1.5)
ax.set_ylim(-1.5,1.5)





# From https://medium.com/@whystudying/monte-carlo-simulation-with-python-13e09731d500
# initialize variables
n_simulations = 100000
n_points_circle = 0
n_points_square = 0

# create lists to store x and y values
l_xs = []
l_ys = []

# loop n_simulations times
for _ in range(n_simulations):
# write code here
    # x is randomly drawn from a continuous uniform distritbuion

    # store x in the list

    
    # y is randomly drawn from a continuous uniform distribution

    # store y in the list

# loop n_simulations times
for i in range(n_simulations):
# write code here
    # calculate the distance between the point and the origin
    
    # if the distance is smaller than or equal to 1, the point is in the circle
    
    # by definition of the uniform distribution, the point is in the square


    
# estimate the value of pi
pi = 4 * n_points_circle / n_points_square
print(pi)












