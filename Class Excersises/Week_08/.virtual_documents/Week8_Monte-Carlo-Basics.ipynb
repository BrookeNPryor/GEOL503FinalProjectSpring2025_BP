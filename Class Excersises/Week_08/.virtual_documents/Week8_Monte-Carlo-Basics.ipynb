


# 1. Decide what we think a reasonable uncertainty is, and generate random numbers within that spread (uniform distrobution, ± 0.5 mm bounds)

import numpy as np
import matplotlib.pyplot as plt

# make a function so we don't have to keep copy/pasting stuff! (samples is what we call numbers for the Monte Carlo simulation)

def generate_samples(measurement, uncertainty, nMC):
    # inputs: measurements, uncertainty, number of monte carlo trials
    # outputs: array of samples
    #uncertainty is the full width of a uniform distrobution
    samples = np.random.uniform(
        measurement - 0.5*uncertainty, 
        measurement + 0.5*uncertainty, 
        int(nMC) # use the integer function to make sure inputs are always integers instead of float
    ) # millimeters
    return samples

# define our variables

base_A = 8 # mm
base_B = 12 # mm
top_B = 15 # mm

dist_unct = 1 #mm
nMC = 100 # number of random Monte Carlo simulations

# generate Monte Carlo samples of distance measurements to horizons
distance_base_A = generate_samples(base_A, dist_unct, nMC)
distance_base_B = generate_samples(base_B, dist_unct, nMC)
distance_top_B = generate_samples(top_B, dist_unct, nMC)

# 2. Find thickness of layer A, using our previously calculated uncertainty spreads. Generates 100 numbers that it COULD be

thickness_A = distance_base_B - distance_base_A

# 3. Find thickness of layer A, using our previously calculated uncertainty spreads. Generates 100 numbers that it COULD be

thickness_B = distance_top_B - distance_base_B

# 4. Make a histogram!

plt.hist(thickness_A, bins=20, color=mediumseagreen, edgecolor=darkgreen)
plt.show


















