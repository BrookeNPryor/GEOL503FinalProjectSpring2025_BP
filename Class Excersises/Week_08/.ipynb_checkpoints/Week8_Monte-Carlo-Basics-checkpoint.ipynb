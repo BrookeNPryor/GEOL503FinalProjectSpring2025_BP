{
 "cells": [
  {
   "cell_type": "markdown",
   "id": "06f825f8-76fa-4343-bb7e-d0aa78affdbf",
   "metadata": {},
   "source": [
    "# Week 8: Monte Carlo Basics\n",
    "\n",
    "After a really cool talk about the power of the Monte Carlo method, let's step back and build some codes to see how it's used in practice.\n",
    "\n",
    "Some useful tools:\n",
    "1. [`np.random.uniform(low, high, size)`](https://numpy.org/doc/stable/reference/random/generated/numpy.random.RandomState.uniform.html)\n",
    "2. [`np.random.normal(mu, sigma, size)`](https://numpy.org/doc/stable/reference/random/generated/numpy.random.normal.html)\n",
    "\n",
    "## Exercise 1\n",
    "\n",
    "You have laid out a (peat/mud/rock/ice) core and are measuring the thicknesses of the layers you've identified. Layer B is on top of layer A.  Your measuring tape is laid out next to the core, and you've decided you can read it to the nearest mm.  The reading at the bottom of layer A is 8 mm, the bottom of layer B is 12 mm, and the top of layer B is 15 mm. \n",
    "\n",
    "1. How would you express your uncertainty in the position of the base of layer A?  What probability distribution would you use to describe it? How about the bottom of layer B?\n",
    "2. What is the thickness of layer A? What is your uncertainty in that estimate? How would you express that uncertainty numerically? How would you express that uncertainty graphically?\n",
    "3. What is the thickness of layer B and its uncertainty? What is the total thickness of both layers and its uncertainty?\n",
    "4. Bonus: Make a scatter plot of your simulations of the layer A and layer b thicknesses. What do you observe?"
   ]
  },
  {
   "cell_type": "code",
   "execution_count": 68,
   "id": "bdf361ca-82f8-4a54-b6a9-849180c0c6e9",
   "metadata": {},
   "outputs": [
    {
     "data": {
      "image/png": "[encoded data removed]",
      "text/plain": [
       "<Figure size 640x480 with 1 Axes>"
      ]
     },
     "metadata": {},
     "output_type": "display_data"
    },
    {
     "name": "stdout",
     "output_type": "stream",
     "text": [
      "standard deviation of Layer A thickness: 0.4036201053201411\n",
      "mean thickness of Layer A: 4.004925246094024\n"
     ]
    }
   ],
   "source": [
    "# 1. Decide what we think a reasonable uncertainty is, and generate random numbers within that spread (uniform distrobution, ± 0.5 mm bounds)\n",
    "\n",
    "import numpy as np\n",
    "import matplotlib.pyplot as plt\n",
    "\n",
    "# make a function so we don't have to keep copy/pasting stuff! (samples is what we call numbers for the Monte Carlo simulation)\n",
    "\n",
    "def generate_samples(measurement, uncertainty, nMC):\n",
    "    # inputs: measurements, uncertainty, number of monte carlo trials\n",
    "    # outputs: array of samples\n",
    "    #uncertainty is the full width of a uniform distrobution\n",
    "    samples = np.random.uniform(\n",
    "        measurement - 0.5*uncertainty, \n",
    "        measurement + 0.5*uncertainty, \n",
    "        int(nMC) # use the integer function to make sure inputs are always integers instead of float\n",
    "    ) # millimeters\n",
    "    return samples\n",
    "\n",
    "# define our variables\n",
    "\n",
    "base_A = 8 # mm\n",
    "base_B = 12 # mm\n",
    "top_B = 15 # mm\n",
    "\n",
    "dist_unct = 1 #mm\n",
    "nMC = 100 # number of random Monte Carlo simulations\n",
    "\n",
    "# generate Monte Carlo samples of distance measurements to horizons\n",
    "distance_base_A = generate_samples(base_A, dist_unct, nMC)\n",
    "distance_base_B = generate_samples(base_B, dist_unct, nMC)\n",
    "distance_top_B = generate_samples(top_B, dist_unct, nMC)\n",
    "\n",
    "# 2. Find thickness of layer A, using our previously calculated uncertainty spreads. Generates 100 numbers that it COULD be\n",
    "\n",
    "thickness_A = distance_base_B - distance_base_A\n",
    "\n",
    "# 3. Find thickness of layer A, using our previously calculated uncertainty spreads. Generates 100 numbers that it COULD be\n",
    "\n",
    "thickness_B = distance_top_B - distance_base_B\n",
    "\n",
    "# 4. Make a histogram!\n",
    "plt.hist(thickness_A, bins=20, color='mediumseagreen', edgecolor='dimgray')\n",
    "\n",
    "#Make it pretty\n",
    "plt.xlabel('Thickness of layer B')\n",
    "plt.ylabel('Frequency')\n",
    "plt.title('Possible True Thickness of layer B')\n",
    "plt.show()\n",
    "\n",
    "#np.mean(thickness_A)\n",
    "print(\"standard deviation of Layer A thickness:\", np.std(thickness_A))\n",
    "print(\"mean thickness of Layer A:\", np.mean(thickness_A))"
   ]
  },
  {
   "cell_type": "markdown",
   "id": "d52e3aef-f8aa-4a41-bc3f-12ff158721ab",
   "metadata": {},
   "source": [
    "## Exercise 2\n",
    "\n",
    "You've decided to do some geochronology, and the age at the bottom of layer A is 10.0 ± 1.1 ka and the age at the top of layer A is 6.2 ± 1.2 ka. The unit \"ka\" is the abbreviation for \"thousands of years ago.\" Treat these as normal distributions with the uncertainties reported at two standard deviations (i.e., $\\pm 2 \\sigma $).\n",
    "\n",
    "1. How long did it take to deposit layer A? What is the uncertainty in that duration?\n",
    "2. What is the average depositional rate for layer A? What is the uncertainty in that rate?\n",
    "3. You've measured a new date at the top of layer B, at 3.2 ± 0.9 ka. What is the depositional rate and uncertainty for layer B? What was the average depositional rate and uncertainty for layers A and B together?"
   ]
  },
  {
   "cell_type": "code",
   "execution_count": null,
   "id": "e1c842eb-e5f4-44fd-97c1-b52c0a49d1bb",
   "metadata": {},
   "outputs": [],
   "source": []
  },
  {
   "cell_type": "markdown",
   "id": "7ba820fc-d068-42a0-81bc-b767e017ac6c",
   "metadata": {},
   "source": [
    "## Exercise 3\n",
    "\n",
    "A basaltic lava flow has been offset by movement on a fault you're interested in. You can clearly identify the edge of the flow and observe that the offset is 121 ± 16 m. You interpret that uncertainty as a uniform distribution, with the ± 16 m as the endpoints of the distribution. The age of the lava flow has been measured at 4.0 ± 1.4 ka $(2\\sigma)$. How fast is the fault moving, in cm/year, and what's the uncertainty in that rate? Provide a historgram."
   ]
  },
  {
   "cell_type": "code",
   "execution_count": null,
   "id": "1c5e7d18-00b7-4217-9dba-3eef0bcd589d",
   "metadata": {},
   "outputs": [],
   "source": []
  },
  {
   "cell_type": "markdown",
   "id": "5fdd2240-0924-4902-812c-1aee58183cce",
   "metadata": {},
   "source": [
    "## Exercise 4: Suspicious Data\n",
    "\n",
    "You've made six very difficult measurements and are now looking at your data.  The first three are above the mean of the data and the last three are below the mean.  What's the probability that this pattern would happen by chance? Do you think the data are somehow biased?"
   ]
  },
  {
   "cell_type": "code",
   "execution_count": null,
   "id": "dc5c5987-4df6-4d41-ae24-7dad70aba87a",
   "metadata": {},
   "outputs": [],
   "source": []
  }
 ],
 "metadata": {
  "kernelspec": {
   "display_name": "Python [conda env:base] *",
   "language": "python",
   "name": "conda-base-py"
  },
  "language_info": {
   "codemirror_mode": {
    "name": "ipython",
    "version": 3
   },
   "file_extension": ".py",
   "mimetype": "text/x-python",
   "name": "python",
   "nbconvert_exporter": "python",
   "pygments_lexer": "ipython3",
   "version": "3.12.7"
  }
 },
 "nbformat": 4,
 "nbformat_minor": 5
}
