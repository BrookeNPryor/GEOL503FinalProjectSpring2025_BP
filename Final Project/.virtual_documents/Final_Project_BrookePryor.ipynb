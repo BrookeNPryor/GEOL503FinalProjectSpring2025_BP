








# import libraries that will be used
import pandas as pd
import matplotlib.pyplot as plt
import numpy as np
import seaborn as sns

# import data from CSV supplementary data file
data = pd.read_excel( "Magnet Cove U-Pb Supplemental Data.xlsx", header = 1 )

age = data[ "Age (Ma)"]
age_uncertainty = data[ "Uncertainty,  2SE Absolute (Ma)" ]
mineral = data[ "Mineral Name"]

# change panda series to NumPy arrays
age.to_numpy()
age_uncertainty.to_numpy()


# pull out rows of data and import ages, uncertainties
kimzeyite_data = data[4:7]
kimzeyite_ages = kimzeyite_data["Age (Ma)"]
kimzeyite_age_uncertainty_1SE = kimzeyite_data[ "Uncertainty,  2SE Absolute (Ma)" ] / 2 # divide by 2 to get 1 SE, since 2SE was used in our analysis

schorlomite_data = data[0:4]
schorlomite_ages = schorlomite_data["Age (Ma)"]
schorlomite_age_uncertainty_1SE = schorlomite_data[ "Uncertainty,  2SE Absolute (Ma)" ] / 2 # divide by 2 to get 1 SE, since 2SE was used in our analysis

apatite_data = data[7:8]
apatite_ages = apatite_data["Age (Ma)"]
apatite_age_uncertainty_1SE = apatite_data[ "Uncertainty,  2SE Absolute (Ma)" ] / 2 # divide by 2 to get 1 SE, since 2SE was used in our analysis


# calculate the weighted mean of kimzeyite ages

# create weighted mean function
def weighted_mean(age, age_uncertainty):
  """
  Calculates the weighted mean for a list of measured ages and their uncertainties.

  Inputs:
    kimzeyite_age: Measured ages from kimzeyite samples. 
    kimzeyite_age_uncertainty: The absolute uncertainty for measured kimzeyite ages (2SE).

  Returns:
    The weighted mean of the measured ages.
    The 1SE uncertainty for the calculated weighted mean.
  """

  weights = ( 1 ) / ( kimzeyite_age_uncertainty_1SE**2 )
  weighted_mean_age = np.sum(weights * age) / np.sum(weights) 
  weighted_mean_uncertainty = np.sqrt( 1 / np.sum(weights) ) #1SE
  return weighted_mean_age, weighted_mean_uncertainty


# perform weighted mean function
kimzeyite_weighted_mean, kimzeyite_weighted_mean_uncertainty = weighted_mean(kimzeyite_ages, kimzeyite_age_uncertainty_1SE)
print(kimzeyite_weighted_mean, kimzeyite_weighted_mean_uncertainty)


# make a box plot




#sns.set_theme(style="ticks", palette="pastel")

# Load the example tips dataset
#tips = sns.load_dataset("tips")

# Draw a nested boxplot to show bills by day and time
#sns.boxplot(x="Sample Name", y="Age (Ma)",
            #hue="Uncertainty,  2SE Absolute (Ma)", palette=["m", "g"],
            #data=pd.read_excel( "Magnet Cove U-Pb Supplemental Data.xlsx", header = 1 ))
#sns.despine(offset=10, trim=True)

# set_xlabel("Sample")
# set_ylabel("Age (Ma)")

print("why does python hate me :(")





plt.figure(figsize=(8, 5))

# Plot ages with 2SE error bars
x = np.arange(len(kimzeyite_ages))
plt.errorbar(x, kimzeyite_ages, yerr=kimzeyite_age_uncertainty_1SE * 2, fmt=',', elinewidth=10, capsize=5, label='Kimzeyite Ages (2SE)')

# Plot weighted mean as horizontal line
plt.axhline(kimzeyite_weighted_mean, color='red', linestyle='--', label='Mean Kimzeyite Age')
plt.fill_between(
    [-0.5, len(x) - 0.5], 
    kimzeyite_weighted_mean - kimzeyite_weighted_mean_uncertainty * 2,
    kimzeyite_weighted_mean + kimzeyite_weighted_mean_uncertainty * 2,
    color='red', alpha=0.2, label='Mean Kimzeyite Age Uncertainty'
)

plt.xticks(x, labels=[f"Sample {i+1}" for i in x])
plt.ylabel("Age (Ma)")
plt.title("Kimzeyite U-Pb Ages with Weighted Mean")
plt.legend()
plt.grid(True)
plt.tight_layout()
plt.show()
