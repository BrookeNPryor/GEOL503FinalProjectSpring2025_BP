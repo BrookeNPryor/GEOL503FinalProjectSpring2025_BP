{
 "cells": [
  {
   "cell_type": "markdown",
   "id": "dc6a654b-3e7d-4497-b367-4bf3e3e5509c",
   "metadata": {},
   "source": [
    "# Final Project: Brooke Pryor\n",
    "\n",
    "## Project Summary\n",
    "\n",
    "For my final project in Geology 503, I'll be recreating Figure 4 from my recent GHawker poster showing the ages and uncertainties for our different types of samples. The goal is to more clearly illustrate the uncertainties of the age measurements and to better communicate the data I've gathered for my research. The inputs will involve a CSV file of supplemental data that I'll create, showing the sample number, age and uncertainty, mineral name, and locality. I'll then use the kimzeyite ages and uncertainties in that CSV file to calculate a weighted mean for the kimzeyite age and the uncertainty on that weighted mean. I'll use this data and the other ages/uncertainties in the supplemetal data to create a box plot. The box plot will also display the kimzeyite weighted mean as a line, with the weighted mean uncertainty shown as a colored band around that line. The coding techniques I'll need are pretty straightforward: I'll use pandas to import the data as dataframes, numpy to perform the calculations, and matplotlib.pyplot to create the plot. "
   ]
  }
 ],
 "metadata": {
  "kernelspec": {
   "display_name": "Python [conda env:GEOL503]",
   "language": "python",
   "name": "conda-env-GEOL503-py"
  },
  "language_info": {
   "codemirror_mode": {
    "name": "ipython",
    "version": 3
   },
   "file_extension": ".py",
   "mimetype": "text/x-python",
   "name": "python",
   "nbconvert_exporter": "python",
   "pygments_lexer": "ipython3",
   "version": "3.13.2"
  }
 },
 "nbformat": 4,
 "nbformat_minor": 5
}
